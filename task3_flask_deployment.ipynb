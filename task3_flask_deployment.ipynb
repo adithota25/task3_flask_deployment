{
 "cells": [
  {
   "cell_type": "markdown",
   "id": "516860ed",
   "metadata": {},
   "source": [
    "# Task 3 – Model Deployment using Flask (CodTech Internship)\n",
    "\n",
    "In this task, we build and deploy a simple machine learning model using Flask.  \n",
    "We'll train a model to predict whether a person has diabetes based on medical attributes (from the Pima Indians dataset).\n"
   ]
  },
  {
   "cell_type": "code",
   "execution_count": null,
   "id": "f3ac114a",
   "metadata": {},
   "outputs": [],
   "source": [
    "# Install Flask (if running locally, not needed in Colab)\n",
    "# !pip install flask\n",
    "\n",
    "import pandas as pd\n",
    "import numpy as np\n",
    "from sklearn.model_selection import train_test_split\n",
    "from sklearn.linear_model import LogisticRegression\n",
    "import joblib\n"
   ]
  },
  {
   "cell_type": "code",
   "execution_count": null,
   "id": "da41f9b7",
   "metadata": {},
   "outputs": [],
   "source": [
    "# Load sample dataset (Pima Indians Diabetes)\n",
    "url = \"https://raw.githubusercontent.com/plotly/datasets/master/diabetes.csv\"\n",
    "df = pd.read_csv(url)\n",
    "\n",
    "# Split data\n",
    "X = df.drop('Outcome', axis=1)\n",
    "y = df['Outcome']\n",
    "\n",
    "X_train, X_test, y_train, y_test = train_test_split(X, y, test_size=0.2, random_state=42)\n",
    "\n",
    "# Train a logistic regression model\n",
    "model = LogisticRegression(max_iter=1000)\n",
    "model.fit(X_train, y_train)\n",
    "\n",
    "# Save the model\n",
    "joblib.dump(model, \"diabetes_model.pkl\")\n",
    "print(\"✅ Model trained and saved as diabetes_model.pkl\")\n"
   ]
  },
  {
   "cell_type": "markdown",
   "id": "869c99fc",
   "metadata": {},
   "source": [
    "### Flask API Code (`app.py`) – Copy this into a separate `app.py` file on your system"
   ]
  },
  {
   "cell_type": "code",
   "execution_count": null,
   "id": "87dcb0bf",
   "metadata": {},
   "outputs": [],
   "source": [
    "from flask import Flask, request, jsonify\n",
    "import joblib\n",
    "import numpy as np\n",
    "\n",
    "app = Flask(__name__)\n",
    "model = joblib.load(\"diabetes_model.pkl\")\n",
    "\n",
    "@app.route(\"/\")\n",
    "def home():\n",
    "    return \"Welcome to the Diabetes Prediction API!\"\n",
    "\n",
    "@app.route(\"/predict\", methods=[\"POST\"])\n",
    "def predict():\n",
    "    data = request.get_json(force=True)\n",
    "    features = np.array([[\n",
    "        data[\"Pregnancies\"], data[\"Glucose\"], data[\"BloodPressure\"],\n",
    "        data[\"SkinThickness\"], data[\"Insulin\"], data[\"BMI\"],\n",
    "        data[\"DiabetesPedigreeFunction\"], data[\"Age\"]\n",
    "    ]])\n",
    "    prediction = model.predict(features)[0]\n",
    "    return jsonify({\"prediction\": int(prediction)})\n",
    "\n",
    "if __name__ == \"__main__\":\n",
    "    app.run(debug=True)\n"
   ]
  },
  {
   "cell_type": "code",
   "execution_count": null,
   "id": "dc8cb829",
   "metadata": {},
   "outputs": [],
   "source": [
    "# Example JSON to send for POST request:\n",
    "example = {\n",
    "    \"Pregnancies\": 2,\n",
    "    \"Glucose\": 120,\n",
    "    \"BloodPressure\": 70,\n",
    "    \"SkinThickness\": 20,\n",
    "    \"Insulin\": 79,\n",
    "    \"BMI\": 25.0,\n",
    "    \"DiabetesPedigreeFunction\": 0.5,\n",
    "    \"Age\": 32\n",
    "}\n",
    "print(example)\n"
   ]
  },
  {
   "cell_type": "markdown",
   "id": "51badc4c",
   "metadata": {},
   "source": [
    "### How to Run the Flask App Locally:\n",
    "\n",
    "1. Save the `app.py` code to your project folder\n",
    "2. Make sure `diabetes_model.pkl` is in the same folder\n",
    "3. In terminal or Anaconda prompt:\n",
    "```bash\n",
    "python app.py\n",
    "```\n",
    "\n",
    "4. Use Postman or curl to test:\n",
    "```bash\n",
    "curl -X POST http://127.0.0.1:5000/predict -H \"Content-Type: application/json\" -d \"@input.json\"\n",
    "```\n",
    "Where `input.json` contains the sample data.\n"
   ]
  }
 ],
 "metadata": {},
 "nbformat": 4,
 "nbformat_minor": 5
}